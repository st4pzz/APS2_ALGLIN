{
 "cells": [
  {
   "cell_type": "code",
   "execution_count": 15,
   "metadata": {},
   "outputs": [],
   "source": [
    "import requests\n",
    "import json\n",
    "from enigma import para_one_hot,para_string,cifrar, de_cifrar, enigma, de_enigma\n",
    "import numpy as np\n",
    "from app import app\n",
    "\n",
    "m = \"eu estou com fome\"\n",
    "alfabeto = 'abcdefghijklmnopqrstuvwxyz ãé,.'\n",
    "alfabeto_identidade = np.identity(len(alfabeto))\n",
    "encoder = np.roll(alfabeto_identidade,-2,1)\n",
    "segundo_encoder = np.roll(alfabeto_identidade,7,1)\n",
    "\n",
    "def test_api_enigma(msg):\n",
    "    payload = {\"mensagem\": msg}\n",
    "    headers = {\"Content-Type\": \"application/json\"}\n",
    "    r = requests.post(\"http://127.0.0.1:5000/post/enigma\",data=json.dumps(payload), headers=headers)\n",
    "    \n",
    "    if r.status_code == 200:\n",
    "        return json.loads(r.content)[\"mensagem\"]\n",
    "\n",
    "def test_api_de_enigma(msg):\n",
    "    payload = {\"mensagem\": msg}\n",
    "    headers = {\"Content-Type\": \"application/json\"}\n",
    "    r = requests.post(\"http://127.0.0.1:5000/post/de-enigma\", data=json.dumps(payload), headers=headers)\n",
    "    if r.status_code == 200:\n",
    "        return json.loads(r.content)[\"mensagem\"]\n"
   ]
  },
  {
   "cell_type": "code",
   "execution_count": 16,
   "metadata": {},
   "outputs": [
    {
     "data": {
      "text/plain": [
       "'.ihjqk,éããbx.ce l'"
      ]
     },
     "execution_count": 16,
     "metadata": {},
     "output_type": "execute_result"
    }
   ],
   "source": [
    "test_api_enigma(m)"
   ]
  },
  {
   "cell_type": "code",
   "execution_count": 17,
   "metadata": {},
   "outputs": [
    {
     "name": "stdout",
     "output_type": "stream",
     "text": [
      "eu estou com fome\n"
     ]
    }
   ],
   "source": [
    "print(test_api_de_enigma(test_api_enigma(m)))"
   ]
  }
 ],
 "metadata": {
  "kernelspec": {
   "display_name": "Python 3.9.10 ('env': venv)",
   "language": "python",
   "name": "python3"
  },
  "language_info": {
   "codemirror_mode": {
    "name": "ipython",
    "version": 3
   },
   "file_extension": ".py",
   "mimetype": "text/x-python",
   "name": "python",
   "nbconvert_exporter": "python",
   "pygments_lexer": "ipython3",
   "version": "3.9.10"
  },
  "orig_nbformat": 4,
  "vscode": {
   "interpreter": {
    "hash": "05e113c01a5286a31ffb8ea00e956850eccbcfbe6fc8d2906c5e6527997c6786"
   }
  }
 },
 "nbformat": 4,
 "nbformat_minor": 2
}
